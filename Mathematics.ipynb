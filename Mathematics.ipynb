{
 "cells": [
  {
   "cell_type": "markdown",
   "metadata": {},
   "source": [
    "# Mathematics"
   ]
  },
  {
   "cell_type": "markdown",
   "metadata": {},
   "source": [
    "## Введение (обзор)"
   ]
  },
  {
   "cell_type": "markdown",
   "metadata": {},
   "source": [
    "bluh bluh"
   ]
  },
  {
   "cell_type": "markdown",
   "metadata": {},
   "source": [
    "## decimal"
   ]
  },
  {
   "cell_type": "markdown",
   "metadata": {},
   "source": [
    "При работе с числами с плавающей точкой мы сталкиваемся с тем, что в результате вычислений получаем результат не совсем верный с человеческой точки зрения:"
   ]
  },
  {
   "cell_type": "code",
   "execution_count": 57,
   "metadata": {},
   "outputs": [
    {
     "data": {
      "text/plain": [
       "False"
      ]
     },
     "execution_count": 57,
     "metadata": {},
     "output_type": "execute_result"
    }
   ],
   "source": [
    "0.1 + 0.2 == 0.3"
   ]
  },
  {
   "cell_type": "markdown",
   "metadata": {},
   "source": [
    "Такое поведение объясняется особенностями реализации **float** обычно соответствующее стандарту IEEE 754 и аппаратно реализуемое в современных компьютерах."
   ]
  },
  {
   "cell_type": "code",
   "execution_count": 64,
   "metadata": {},
   "outputs": [
    {
     "data": {
      "text/plain": [
       "0.30000000000000004"
      ]
     },
     "execution_count": 64,
     "metadata": {},
     "output_type": "execute_result"
    }
   ],
   "source": [
    "a = 0.1 + 0.2\n",
    "a"
   ]
  },
  {
   "cell_type": "markdown",
   "metadata": {},
   "source": [
    "В расчетах, требующих повышенную точность предпочтительнее использовать десятичные числа с фиксированной точкой.\n",
    "\n",
    "Модуль decimal реализует арифметику чисел c фиксированной точностью и чисел c плавающей точкой c использованием модели, понятной большинству людей. Экземпляр Decimal обеспечивает точное представление любого числа, c округлением как вниз, так и вверх, используя заданное предельное значение количества значащих цифр.\n",
    "\n",
    "Стоит помнить, что decimal арифметика значительно медленнее float арифметики.\n",
    "\n",
    "\n",
    "Ключевым компонентом для работы с числами в этом модуле является класс **Decimal**. Создаем объект с помощью конструктора, после чего его можно использовать в арифметических операциях."
   ]
  },
  {
   "cell_type": "code",
   "execution_count": 73,
   "metadata": {},
   "outputs": [
    {
     "data": {
      "text/plain": [
       "Decimal('0.3')"
      ]
     },
     "execution_count": 73,
     "metadata": {},
     "output_type": "execute_result"
    }
   ],
   "source": [
    "from decimal import *\n",
    "getcontext().prec = 3 # по умолчанию 28\n",
    "a = 0.1 + 0.2\n",
    "b = Decimal(\"0.1\") + Decimal(\"0.2\")\n",
    "b"
   ]
  },
  {
   "cell_type": "code",
   "execution_count": 78,
   "metadata": {},
   "outputs": [
    {
     "data": {
      "text/plain": [
       "Decimal('0.3')"
      ]
     },
     "execution_count": 78,
     "metadata": {},
     "output_type": "execute_result"
    }
   ],
   "source": [
    "float(b)\n",
    "b"
   ]
  },
  {
   "cell_type": "markdown",
   "metadata": {},
   "source": [
    "Изменять поведение модуля **decimal** можно при помощи *контекста*, который позволяет изменять точность, способ округления и обработку ошибок. Контексты могут применяться ко всем\n",
    "экземплярам **Decimal** как в потоке, так и локально, в пределах небольшого участка кода.\n",
    "\n",
    "За контекст отвечает функция **getcontext()**\n",
    "\n",
    "Атрибут **prec** управляет точностью, поддерживаемой для новых значений, которые создаются в результате выполнения математических операций. В примере выше была установлена точность 3 символа после запятой, по умолчанию она равна 28.\n",
    "\n",
    "Извлечение текущего глобального контекста приведено ниже."
   ]
  },
  {
   "cell_type": "code",
   "execution_count": 74,
   "metadata": {},
   "outputs": [
    {
     "name": "stdout",
     "output_type": "stream",
     "text": [
      "Emax = 999999\n",
      "Emin =  -999999\n",
      "capitals =  1\n",
      "prec =  28\n",
      "rounding =  ROUND_HALF_EVEN\n",
      "flags =\n",
      " <class 'decimal.InvalidOperation'>: False\n",
      " <class 'decimal.FloatOperation'>: False\n",
      " <class 'decimal.DivisionByZero'>: False\n",
      " <class 'decimal.Overflow'>: False\n",
      " <class 'decimal.Underflow'>: False\n",
      " <class 'decimal.Subnormal'>: False\n",
      " <class 'decimal.Inexact'>: False\n",
      " <class 'decimal.Rounded'>: False\n",
      " <class 'decimal.Clamped'>: False\n",
      "traps = \n",
      " <class 'decimal.InvalidOperation'>: True\n",
      " <class 'decimal.FloatOperation'>: False\n",
      " <class 'decimal.DivisionByZero'>: True\n",
      " <class 'decimal.Overflow'>: True\n",
      " <class 'decimal.Underflow'>: False\n",
      " <class 'decimal.Subnormal'>: False\n",
      " <class 'decimal.Inexact'>: False\n",
      " <class 'decimal.Rounded'>: False\n",
      " <class 'decimal.Clamped'>: False\n"
     ]
    }
   ],
   "source": [
    "context = getcontext()\n",
    "print('Emax =', context.Emax)\n",
    "print('Emin = ', context.Emin)\n",
    "print('capitals = ', context.capitals)\n",
    "print('prec = ', context.prec)\n",
    "print('rounding = ', context.rounding)\n",
    "print('flags =')\n",
    "for f, v in context.flags.items():\n",
    "    print(' {}: {}'.format(f, v))\n",
    "print('traps = ')\n",
    "for t, v in context.traps.items():\n",
    "    print(' {}: {}'.format(t, v))"
   ]
  },
  {
   "cell_type": "markdown",
   "metadata": {},
   "source": [
    "Возможная ошибка в применеии конструктора **decimal** - не использовать строку в аргументе. \n",
    "\n",
    "Важно понимать, что если задано число с плавающей точкой, то его двоичное представление преобразуется без потерь в точный десятичный эквивалент."
   ]
  },
  {
   "cell_type": "code",
   "execution_count": 61,
   "metadata": {},
   "outputs": [
    {
     "data": {
      "text/plain": [
       "Decimal('0.3000000000000000166533453694')"
      ]
     },
     "execution_count": 61,
     "metadata": {},
     "output_type": "execute_result"
    }
   ],
   "source": [
    "from decimal import *\n",
    "\n",
    "c = Decimal(0.1) + Decimal(0.2)\n",
    "c"
   ]
  },
  {
   "cell_type": "code",
   "execution_count": 62,
   "metadata": {},
   "outputs": [
    {
     "data": {
      "text/plain": [
       "0.30000000000000004"
      ]
     },
     "execution_count": 62,
     "metadata": {},
     "output_type": "execute_result"
    }
   ],
   "source": [
    "c = float(c)\n",
    "c"
   ]
  },
  {
   "cell_type": "code",
   "execution_count": 63,
   "metadata": {},
   "outputs": [
    {
     "data": {
      "text/plain": [
       "True"
      ]
     },
     "execution_count": 63,
     "metadata": {},
     "output_type": "execute_result"
    }
   ],
   "source": [
    "0.1 + 0.2  == c"
   ]
  },
  {
   "cell_type": "markdown",
   "metadata": {},
   "source": [
    "Метод **quantize()** округляет число представленное объектом **decimal**.\n",
    "\n",
    "В качестве первого аргумента передается также объект Decimal, который указывает формат округления числа.\n",
    "\n",
    "Вторым аргументом является одна из констант, определяющая правило округления."
   ]
  },
  {
   "cell_type": "code",
   "execution_count": 81,
   "metadata": {},
   "outputs": [
    {
     "data": {
      "text/plain": [
       "Decimal('7.32')"
      ]
     },
     "execution_count": 81,
     "metadata": {},
     "output_type": "execute_result"
    }
   ],
   "source": [
    "Decimal('7.325').quantize(Decimal('.01'), rounding=ROUND_DOWN)"
   ]
  },
  {
   "cell_type": "code",
   "execution_count": 80,
   "metadata": {},
   "outputs": [
    {
     "data": {
      "text/plain": [
       "Decimal('8')"
      ]
     },
     "execution_count": 80,
     "metadata": {},
     "output_type": "execute_result"
    }
   ],
   "source": [
    "Decimal('7.325').quantize(Decimal('1.'), rounding=ROUND_UP)"
   ]
  },
  {
   "cell_type": "markdown",
   "metadata": {},
   "source": [
    "## fractions"
   ]
  },
  {
   "cell_type": "markdown",
   "metadata": {},
   "source": [
    "bluh bluh"
   ]
  },
  {
   "cell_type": "code",
   "execution_count": null,
   "metadata": {},
   "outputs": [],
   "source": []
  },
  {
   "cell_type": "markdown",
   "metadata": {},
   "source": [
    "## random"
   ]
  },
  {
   "cell_type": "markdown",
   "metadata": {},
   "source": [
    "bluh bluh"
   ]
  },
  {
   "cell_type": "code",
   "execution_count": null,
   "metadata": {},
   "outputs": [],
   "source": []
  },
  {
   "cell_type": "markdown",
   "metadata": {},
   "source": [
    "## math"
   ]
  },
  {
   "cell_type": "markdown",
   "metadata": {},
   "source": [
    "bluh bluh"
   ]
  },
  {
   "cell_type": "code",
   "execution_count": null,
   "metadata": {},
   "outputs": [],
   "source": []
  },
  {
   "cell_type": "markdown",
   "metadata": {},
   "source": [
    "## statistics"
   ]
  },
  {
   "cell_type": "markdown",
   "metadata": {},
   "source": [
    "bluh bluh"
   ]
  },
  {
   "cell_type": "code",
   "execution_count": null,
   "metadata": {},
   "outputs": [],
   "source": []
  }
 ],
 "metadata": {
  "kernelspec": {
   "display_name": "Python 3",
   "language": "python",
   "name": "python3"
  },
  "language_info": {
   "codemirror_mode": {
    "name": "ipython",
    "version": 3
   },
   "file_extension": ".py",
   "mimetype": "text/x-python",
   "name": "python",
   "nbconvert_exporter": "python",
   "pygments_lexer": "ipython3",
   "version": "3.8.3"
  }
 },
 "nbformat": 4,
 "nbformat_minor": 4
}
