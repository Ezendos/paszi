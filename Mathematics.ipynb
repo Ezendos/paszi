{
 "cells": [
  {
   "cell_type": "markdown",
   "metadata": {},
   "source": [
    "<a href=\"https://colab.research.google.com/github/Ezendos/paszi/blob/master/Mathematics.ipynb\"><img align=\"left\" src=\"https://colab.research.google.com/assets/colab-badge.svg\" alt=\"Open in Colab\" title=\"Open and Execute in Google Colaboratory\" target=\"_blank\"></a>"
   ]
  },
  {
   "cell_type": "markdown",
   "metadata": {},
   "source": [
    "# Mathematics"
   ]
  },
  {
   "cell_type": "markdown",
   "metadata": {},
   "source": [
    "## Математика в Python\n",
    "\n",
    "Python — универсальный язык программирования, и поэтому его часто используют для решения математических задач. Он включает встроенные типы для работы c целыми числами и числами c плавающей точкой, пригодные для выполнения базовых математических вычислений, c которыми приходится сталкиваться в типичных приложениях. В случаях, когда предъявляются повышенные требования к точности расчетов или появляется необходимость провести более сложные математические операции, стандартная библиотека реализует дополнительные возможности в виде следующих модулей:"
   ]
  },
  {
   "cell_type": "markdown",
   "metadata": {},
   "source": [
    "## decimal"
   ]
  },
  {
   "cell_type": "markdown",
   "metadata": {},
   "source": [
    "При работе с числами с плавающей точкой мы сталкиваемся с тем, что в результате вычислений получаем результат не совсем верный с человеческой точки зрения:"
   ]
  },
  {
   "cell_type": "code",
   "execution_count": 3,
   "metadata": {},
   "outputs": [
    {
     "data": {
      "text/plain": [
       "False"
      ]
     },
     "execution_count": 3,
     "metadata": {},
     "output_type": "execute_result"
    }
   ],
   "source": [
    "0.1 + 0.2 == 0.3"
   ]
  },
  {
   "cell_type": "markdown",
   "metadata": {},
   "source": [
    "Такое поведение объясняется особенностями реализации `float` обычно соответствующее стандарту IEEE 754 и аппаратно реализуемое в современных компьютерах."
   ]
  },
  {
   "cell_type": "code",
   "execution_count": 4,
   "metadata": {},
   "outputs": [
    {
     "data": {
      "text/plain": [
       "0.30000000000000004"
      ]
     },
     "execution_count": 4,
     "metadata": {},
     "output_type": "execute_result"
    }
   ],
   "source": [
    "a = 0.1 + 0.2\n",
    "a"
   ]
  },
  {
   "cell_type": "markdown",
   "metadata": {},
   "source": [
    "### IEEE-754\n",
    "\n",
    "Число одинарной точности (32-bit)\n",
    "\n",
    "![float](https://upload.wikimedia.org/wikipedia/commons/thumb/d/d2/Float_example.svg/590px-Float_example.svg.png)\n",
    "\n",
    "Число двойной точности (64-bit)\n",
    "\n",
    "![double](https://upload.wikimedia.org/wikipedia/commons/thumb/a/a9/IEEE_754_Double_Floating_Point_Format.svg/618px-IEEE_754_Double_Floating_Point_Format.svg.png)"
   ]
  },
  {
   "cell_type": "markdown",
   "metadata": {},
   "source": [
    "В расчетах, требующих повышенную точность предпочтительнее использовать десятичные числа с фиксированной точкой.\n",
    "\n",
    "Модуль `decimal` реализует арифметику чисел c фиксированной точностью и чисел c плавающей точкой c использованием модели, понятной большинству людей. Экземпляр `Decimal` обеспечивает точное представление любого числа, c округлением как вниз, так и вверх, используя заданное предельное значение количества значащих цифр.\n",
    "\n",
    "Ключевым компонентом для работы с числами в этом модуле является класс `Decimal`. Создаем объект с помощью конструктора, после чего его можно использовать в арифметических операциях."
   ]
  },
  {
   "cell_type": "code",
   "execution_count": 5,
   "metadata": {},
   "outputs": [
    {
     "data": {
      "text/plain": [
       "Decimal('0.3')"
      ]
     },
     "execution_count": 5,
     "metadata": {},
     "output_type": "execute_result"
    }
   ],
   "source": [
    "from decimal import *\n",
    "getcontext().prec = 3 # по умолчанию 28\n",
    "a = 0.1 + 0.2\n",
    "b = Decimal(\"0.1\") + Decimal(\"0.2\")\n",
    "b"
   ]
  },
  {
   "cell_type": "code",
   "execution_count": 6,
   "metadata": {},
   "outputs": [
    {
     "data": {
      "text/plain": [
       "Decimal('0.3')"
      ]
     },
     "execution_count": 6,
     "metadata": {},
     "output_type": "execute_result"
    }
   ],
   "source": [
    "float(b)\n",
    "b"
   ]
  },
  {
   "cell_type": "markdown",
   "metadata": {},
   "source": [
    "Изменять поведение модуля `decimal` можно при помощи *контекста*. Контекст  определяет точность, правила округления, ограничения на экспоненты, флаги результатов операций и средства активации исключений. Контексты могут применяться ко всем\n",
    "экземплярам `Decimal` как в потоке, так и локально, в пределах небольшого участка кода. \n",
    "\n",
    "За контекст отвечает функция `getcontext()`\n",
    "\n",
    "Атрибут `prec` управляет точностью, поддерживаемой для новых значений, которые создаются в результате выполнения математических операций. Значение `prec` не изменяет количество значимых цифр вводимого числа, но обязательно изменит его после выполнения математических операций. По умолчанию `prec` равна 28."
   ]
  },
  {
   "cell_type": "code",
   "execution_count": 7,
   "metadata": {},
   "outputs": [
    {
     "data": {
      "text/plain": [
       "Decimal('1.23456789')"
      ]
     },
     "execution_count": 7,
     "metadata": {},
     "output_type": "execute_result"
    }
   ],
   "source": [
    "getcontext().prec = 5\n",
    "Decimal('1.23456789')"
   ]
  },
  {
   "cell_type": "code",
   "execution_count": 8,
   "metadata": {},
   "outputs": [
    {
     "data": {
      "text/plain": [
       "Decimal('1.2346')"
      ]
     },
     "execution_count": 8,
     "metadata": {},
     "output_type": "execute_result"
    }
   ],
   "source": [
    "getcontext().prec = 5\n",
    "1*Decimal('1.23456789')"
   ]
  },
  {
   "cell_type": "code",
   "execution_count": 9,
   "metadata": {},
   "outputs": [
    {
     "data": {
      "text/plain": [
       "Decimal('1.0000')"
      ]
     },
     "execution_count": 9,
     "metadata": {},
     "output_type": "execute_result"
    }
   ],
   "source": [
    "getcontext().prec = 5\n",
    "Decimal('1.23456789') - Decimal('0.23456789')"
   ]
  },
  {
   "cell_type": "markdown",
   "metadata": {},
   "source": [
    "Извлечение текущего глобального контекста:"
   ]
  },
  {
   "cell_type": "code",
   "execution_count": 10,
   "metadata": {},
   "outputs": [
    {
     "data": {
      "text/plain": [
       "Context(prec=28, rounding=ROUND_HALF_EVEN, Emin=-999999, Emax=999999, capitals=1, clamp=0, flags=[], traps=[InvalidOperation, DivisionByZero, Overflow])"
      ]
     },
     "execution_count": 10,
     "metadata": {},
     "output_type": "execute_result"
    }
   ],
   "source": [
    "getcontext()"
   ]
  },
  {
   "cell_type": "markdown",
   "metadata": {},
   "source": [
    "Возможная ошибка в применеии конструктора `decimal` - не использовать строку в аргументе при вводе чисел с точкой. \n",
    "\n",
    "Важно понимать, что если задано число с плавающей точкой, то его двоичное представление преобразуется без потерь в точный десятичный эквивалент."
   ]
  },
  {
   "cell_type": "code",
   "execution_count": 34,
   "metadata": {},
   "outputs": [
    {
     "data": {
      "text/plain": [
       "Decimal('0.3000000000000000166533453694')"
      ]
     },
     "execution_count": 34,
     "metadata": {},
     "output_type": "execute_result"
    }
   ],
   "source": [
    "from decimal import *\n",
    "\n",
    "c = Decimal(0.1) + Decimal(0.2)\n",
    "c"
   ]
  },
  {
   "cell_type": "code",
   "execution_count": 12,
   "metadata": {},
   "outputs": [
    {
     "data": {
      "text/plain": [
       "0.30000000000000004"
      ]
     },
     "execution_count": 12,
     "metadata": {},
     "output_type": "execute_result"
    }
   ],
   "source": [
    "c = float(c)\n",
    "c"
   ]
  },
  {
   "cell_type": "code",
   "execution_count": 13,
   "metadata": {},
   "outputs": [
    {
     "data": {
      "text/plain": [
       "True"
      ]
     },
     "execution_count": 13,
     "metadata": {},
     "output_type": "execute_result"
    }
   ],
   "source": [
    "0.1 + 0.2  == c"
   ]
  },
  {
   "cell_type": "markdown",
   "metadata": {},
   "source": [
    "Некоторые математические функции реализованы как методы класса `Decimal`"
   ]
  },
  {
   "cell_type": "code",
   "execution_count": 14,
   "metadata": {},
   "outputs": [
    {
     "data": {
      "text/plain": [
       "Decimal('1.732050807568877293527446342')"
      ]
     },
     "execution_count": 14,
     "metadata": {},
     "output_type": "execute_result"
    }
   ],
   "source": [
    "Decimal(3).sqrt()"
   ]
  },
  {
   "cell_type": "code",
   "execution_count": 15,
   "metadata": {},
   "outputs": [
    {
     "data": {
      "text/plain": [
       "Decimal('0.9999996952269029620733811293')"
      ]
     },
     "execution_count": 15,
     "metadata": {},
     "output_type": "execute_result"
    }
   ],
   "source": [
    "Decimal('2.718281').ln()"
   ]
  },
  {
   "cell_type": "code",
   "execution_count": 16,
   "metadata": {},
   "outputs": [
    {
     "data": {
      "text/plain": [
       "Decimal('2.718281828459045235360287471')"
      ]
     },
     "execution_count": 16,
     "metadata": {},
     "output_type": "execute_result"
    }
   ],
   "source": [
    "Decimal(1).exp()"
   ]
  },
  {
   "cell_type": "code",
   "execution_count": 17,
   "metadata": {},
   "outputs": [
    {
     "data": {
      "text/plain": [
       "Decimal('3.000434077479318640668921388')"
      ]
     },
     "execution_count": 17,
     "metadata": {},
     "output_type": "execute_result"
    }
   ],
   "source": [
    "Decimal(1001).log10()"
   ]
  },
  {
   "cell_type": "markdown",
   "metadata": {},
   "source": [
    "Метод `quantize()` округляет число представленное объектом `decimal`.\n",
    "\n",
    "В качестве первого аргумента передается также объект `Decimal`, который указывает формат округления числа.\n",
    "\n",
    "Вторым аргументом является одна из констант, определяющая правило округления."
   ]
  },
  {
   "cell_type": "code",
   "execution_count": 18,
   "metadata": {},
   "outputs": [
    {
     "data": {
      "text/plain": [
       "Decimal('7.32')"
      ]
     },
     "execution_count": 18,
     "metadata": {},
     "output_type": "execute_result"
    }
   ],
   "source": [
    "Decimal('7.325').quantize(Decimal('.01'), rounding=ROUND_DOWN)"
   ]
  },
  {
   "cell_type": "code",
   "execution_count": 19,
   "metadata": {},
   "outputs": [
    {
     "data": {
      "text/plain": [
       "Decimal('8')"
      ]
     },
     "execution_count": 19,
     "metadata": {},
     "output_type": "execute_result"
    }
   ],
   "source": [
    "Decimal('7.325').quantize(Decimal('1.'), rounding=ROUND_UP)"
   ]
  },
  {
   "cell_type": "markdown",
   "metadata": {},
   "source": [
    "## fractions\n",
    "\n",
    "Модуль `fractions` позволяет выполнять арифметические действия над рациональными числами. Модуль предоставляет класс рациональных чисел `Fraction`, экземпляры которого могут создаваться на основе двух целых чисел, другого рационального числа или строки. Экземпляры класса `Fraction` имеют свойства числитель (`numerator`) и знаменатель (`denominator`).\n",
    "\n",
    "Сосздадим несколько экземпляров дробей123"
   ]
  },
  {
   "cell_type": "code",
   "execution_count": 20,
   "metadata": {},
   "outputs": [
    {
     "data": {
      "text/plain": [
       "Fraction(0, 1)"
      ]
     },
     "execution_count": 20,
     "metadata": {},
     "output_type": "execute_result"
    }
   ],
   "source": [
    "from fractions import *\n",
    "Fraction()    #  по умолчанию numerator=0, denominator=1"
   ]
  },
  {
   "cell_type": "code",
   "execution_count": 21,
   "metadata": {},
   "outputs": [
    {
     "data": {
      "text/plain": [
       "Fraction(1, 2)"
      ]
     },
     "execution_count": 21,
     "metadata": {},
     "output_type": "execute_result"
    }
   ],
   "source": [
    "Fraction(numerator=1, denominator=2)    #  равносильно Fraction(1, 2)"
   ]
  },
  {
   "cell_type": "markdown",
   "metadata": {},
   "source": [
    "Если числитель и знаменатель имеют общие делители, то перед созданием рационального числа они будут сокращены:"
   ]
  },
  {
   "cell_type": "code",
   "execution_count": 22,
   "metadata": {},
   "outputs": [
    {
     "data": {
      "text/plain": [
       "(Fraction(1, 2), Fraction(1, 2))"
      ]
     },
     "execution_count": 22,
     "metadata": {},
     "output_type": "execute_result"
    }
   ],
   "source": [
    "Fraction(8, 16), Fraction(15, 30)"
   ]
  },
  {
   "cell_type": "markdown",
   "metadata": {},
   "source": [
    "Полезным свойством экземпляров `Fraction` является возможность преобразования чисел c плавающей точкой в приближенную рациональную дробь. Это реализуется при помощи метода `limit_denominator(max_denominator)`, где `max_denominator` определеяет максимальное значение знаменателя дроби."
   ]
  },
  {
   "cell_type": "code",
   "execution_count": 23,
   "metadata": {},
   "outputs": [
    {
     "data": {
      "text/plain": [
       "Fraction(311, 99)"
      ]
     },
     "execution_count": 23,
     "metadata": {},
     "output_type": "execute_result"
    }
   ],
   "source": [
    "Fraction('3.1415926535897932').limit_denominator(100)"
   ]
  },
  {
   "cell_type": "markdown",
   "metadata": {},
   "source": [
    "## random"
   ]
  },
  {
   "cell_type": "markdown",
   "metadata": {},
   "source": [
    "Модуль `random` предоставляет быстрый генератор псевдослучайных чисел, основанный на алгоритме под названием *вихрь Мерсенна*. Этот алгоритм, первоначально разработанный для расчетов методом Монте-Карло, генерирует числа, подчиняющиеся равномерному распределению c большим периодом повторения, что делает его весьма удобным для широкого ряда приложений.\n",
    "\n",
    "Сразу стоит отметить, что данный модуль **совершенно не годится для криптографии**, так как генератор абсолютно детерминирован (каждое последующее его состояние, предопределено предыдущим состоянием). Это, впрочем, не должно сильно повлиять на научные расчеты или игровые механизмы."
   ]
  },
  {
   "cell_type": "code",
   "execution_count": null,
   "metadata": {},
   "outputs": [],
   "source": []
  },
  {
   "cell_type": "code",
   "execution_count": null,
   "metadata": {},
   "outputs": [],
   "source": []
  },
  {
   "cell_type": "code",
   "execution_count": null,
   "metadata": {},
   "outputs": [],
   "source": []
  },
  {
   "cell_type": "code",
   "execution_count": null,
   "metadata": {},
   "outputs": [],
   "source": []
  },
  {
   "cell_type": "code",
   "execution_count": null,
   "metadata": {},
   "outputs": [],
   "source": []
  },
  {
   "cell_type": "markdown",
   "metadata": {},
   "source": [
    "## math"
   ]
  },
  {
   "cell_type": "markdown",
   "metadata": {},
   "source": [
    "Модуль `math` реализует многие из специальных функций, специфицированных стандартом IEEE, которые обычно содержатся в платформозависимых библиотеках C и предназначены для выполнения сложных математических операций c использованием значений c плавающей точкой, включая логарифмические и тригонометрические операции. Несмотря на то что числа комплексного типа `complex` являются встроенными, данный модуль их не поддерживает и всегда вызывает исключение при их использовании. Для того что бы использовать математические функции с комплексными числами обратитесь к модулю `cmath`.\n",
    "\n",
    "Ниже приведён список констант `math`, точность которых ограничена только точностью чисел c плавающей точкой в соответствии c установленной на данной платформе библиотекой C."
   ]
  },
  {
   "cell_type": "code",
   "execution_count": 24,
   "metadata": {},
   "outputs": [
    {
     "name": "stdout",
     "output_type": "stream",
     "text": [
      " pi: 3.141592653589793115997963468544\n",
      " e: 2.718281828459045090795598298428\n",
      " tau: 6.283185307179586231995926937088\n",
      "nan: nan\n",
      "inf: inf\n"
     ]
    }
   ],
   "source": [
    "import math\n",
    "print(' pi: {:.30f}'.format(math.pi))\n",
    "print(' e: {:.30f}'.format(math.e))\n",
    "print(' tau: {:.30f}'.format(math.tau))\n",
    "print('nan: {:.30f}'.format(math.nan))\n",
    "print('inf: {:.30f}'.format(math.inf))"
   ]
  },
  {
   "cell_type": "markdown",
   "metadata": {},
   "source": [
    "Не следует использовать оператор == для сравнения чисел с плавающей точкой. \n",
    "\n",
    "Вместо == стоит применять функцию **mаth.isсlоsе(х, у)**"
   ]
  },
  {
   "cell_type": "code",
   "execution_count": 25,
   "metadata": {},
   "outputs": [
    {
     "data": {
      "text/plain": [
       "False"
      ]
     },
     "execution_count": 25,
     "metadata": {},
     "output_type": "execute_result"
    }
   ],
   "source": [
    "a = 0.1 + 0.2\n",
    "b = 0.3\n",
    "a == b"
   ]
  },
  {
   "cell_type": "code",
   "execution_count": 26,
   "metadata": {},
   "outputs": [
    {
     "data": {
      "text/plain": [
       "True"
      ]
     },
     "execution_count": 26,
     "metadata": {},
     "output_type": "execute_result"
    }
   ],
   "source": [
    "math.isclose(a,b)"
   ]
  },
  {
   "cell_type": "markdown",
   "metadata": {},
   "source": [
    "## statistics"
   ]
  },
  {
   "cell_type": "markdown",
   "metadata": {},
   "source": [
    "Модуль `statistics` реализует базовые статистические формулы, обеспечивающие проведение вычислений c использованием различных числовых типов Python (`int`, `float`, `Decimal` и `Fraction`). Очевидно, этот модуль не является конкурентом таким библиотекам как NumPy или SciPy.\n",
    "\n",
    "### Показатели центра распределения\n",
    "Cреднее значение (арифметическое, геометрическое, гармоническое), медиана, мода."
   ]
  },
  {
   "cell_type": "code",
   "execution_count": 27,
   "metadata": {},
   "outputs": [
    {
     "name": "stdout",
     "output_type": "stream",
     "text": [
      "Среднее арифметическое: 11.38\n",
      "Среднее геометрическое: 5.96\n",
      "Среднее гармоническое: 3.24\n",
      "Медиана: 7.50\n",
      "Мода: 2.00\n"
     ]
    }
   ],
   "source": [
    "from statistics import *\n",
    "data = [1, 2, 2, 5, 10, 12, 15, 44]\n",
    "print('Среднее арифметическое: {:0.2f}'.format(mean(data)))\n",
    "print('Среднее геометрическое: {:0.2f}'.format(geometric_mean(data)))\n",
    "print('Среднее гармоническое: {:0.2f}'.format(harmonic_mean(data)))\n",
    "print('Медиана: {:0.2f}'.format(median(data)))\n",
    "print('Мода: {:0.2f}'.format(mode(data)))"
   ]
  },
  {
   "attachments": {
    "4f27c4e4-d6ab-4c21-ab86-25e97c139bb4.png": {
     "image/png": "[encoded data removed]"
    }
   },
   "cell_type": "markdown",
   "metadata": {},
   "source": [
    "Дисперсия и стандартное отклонение\n",
    "\n",
    "Для выражения степени разброса значений относительно среднего по набору статистики используют две характеристики. Дисперсия — это среднее значение квадрата разности между каждым из значений и средним, а стандартное отклонение — это квадратный корень из дисперсии. Большие значения дисперсии или стандартного отклонения означают большую степень разброса данных в наборе, тогда как их небольшие значения свидетельствуют о кластеризации данных вокруг среднего значения.![image.png](attachment:4f27c4e4-d6ab-4c21-ab86-25e97c139bb4.png)"
   ]
  },
  {
   "cell_type": "code",
   "execution_count": 35,
   "metadata": {},
   "outputs": [
    {
     "data": {
      "text/plain": [
       "1.4285714285714286"
      ]
     },
     "execution_count": 35,
     "metadata": {},
     "output_type": "execute_result"
    }
   ],
   "source": [
    "data = [0.0, 0.25, 0.25, 1.25, 1.5, 1.75, 2.75, 3.25]\n",
    "variance(data)"
   ]
  },
  {
   "cell_type": "code",
   "execution_count": 34,
   "metadata": {},
   "outputs": [
    {
     "data": {
      "text/plain": [
       "1.0810874155219827"
      ]
     },
     "execution_count": 34,
     "metadata": {},
     "output_type": "execute_result"
    }
   ],
   "source": [
    "stdev([1.5, 2.5, 2.5, 2.75, 3.25, 4.75])"
   ]
  },
  {
   "cell_type": "code",
   "execution_count": null,
   "metadata": {},
   "outputs": [],
   "source": []
  },
  {
   "cell_type": "markdown",
   "metadata": {},
   "source": [
    "## Источники и ссылки:\n",
    "\n",
    "[Семён Лукашевский - pyprog.pro - Справочник по стандартной библиотеке языка Python](https://pyprog.pro/python/st_lib/standart_library.html)\n",
    "\n",
    "Даг Хеллман - Стандартная библиотека Python 3. Справочник с примерами\n",
    "\n",
    "[docs.python.org](https://docs.python.org)"
   ]
  }
 ],
 "metadata": {
  "kernelspec": {
   "display_name": "Python 3",
   "language": "python",
   "name": "python3"
  },
  "language_info": {
   "codemirror_mode": {
    "name": "ipython",
    "version": 3
   },
   "file_extension": ".py",
   "mimetype": "text/x-python",
   "name": "python",
   "nbconvert_exporter": "python",
   "pygments_lexer": "ipython3",
   "version": "3.8.3"
  }
 },
 "nbformat": 4,
 "nbformat_minor": 4
}
