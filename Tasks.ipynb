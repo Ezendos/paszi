{
 "cells": [
  {
   "cell_type": "markdown",
   "metadata": {},
   "source": [
    "# Задания по теме 7 (Mathematics)\n",
    "\n",
    "## [Ссылка на блокнот с докладом](https://github.com/Ezendos/paszi/blob/master/Mathematics.ipynb)\n",
    "\n"
   ]
  },
  {
   "cell_type": "markdown",
   "metadata": {},
   "source": [
    "### Задача 1\n",
    "Исправьте ошибки в использовании конструктора `decimal` ячейке с кодом, чтобы значение выражения `c == a - b` стало `True`."
   ]
  },
  {
   "cell_type": "code",
   "execution_count": 1,
   "metadata": {},
   "outputs": [
    {
     "data": {
      "text/plain": [
       "False"
      ]
     },
     "execution_count": 1,
     "metadata": {},
     "output_type": "execute_result"
    }
   ],
   "source": [
    "from decimal import *\n",
    "\n",
    "a = Decimal(0.9)\n",
    "b = Decimal(0.3)\n",
    "c = Decimal(0.6)\n",
    "\n",
    "c == a - b"
   ]
  },
  {
   "cell_type": "markdown",
   "metadata": {},
   "source": [
    "### Задача 2\n",
    "В \"Спёрбанк\" помещен вклад в размере **342585.12** руб. 01.04.2018 и востребован 04.10.2021. Ставка **3.09%** годовых, капитализация ежеквартальная (всего **14** начислений). Определить сумму начисленных процентов, используя `decimal`. Сумма должна округляться вниз до двух знаков после запятой."
   ]
  },
  {
   "cell_type": "code",
   "execution_count": 2,
   "metadata": {},
   "outputs": [],
   "source": [
    "from decimal import *\n",
    "\n",
    "# ваш код"
   ]
  },
  {
   "cell_type": "markdown",
   "metadata": {},
   "source": [
    "### Задача 3\n",
    "Получить приближенную рациональную дробь из переменной типа `float` (a = 0.16519) со знаменателем **не больше 100**."
   ]
  },
  {
   "cell_type": "code",
   "execution_count": 3,
   "metadata": {},
   "outputs": [],
   "source": [
    "from fractions import *\n",
    "a = 0.16519\n",
    "\n",
    "# ваш код"
   ]
  },
  {
   "cell_type": "markdown",
   "metadata": {},
   "source": [
    "### Задача 4\n",
    "Представьте первые 20 членов [гармонического ряда](https://ru.wikipedia.org/wiki/%D0%93%D0%B0%D1%80%D0%BC%D0%BE%D0%BD%D0%B8%D1%87%D0%B5%D1%81%D0%BA%D0%B8%D0%B9_%D1%80%D1%8F%D0%B4) с помощью функции `print` и модуля `fractions`."
   ]
  },
  {
   "cell_type": "code",
   "execution_count": 4,
   "metadata": {},
   "outputs": [],
   "source": [
    "from fractions import *\n",
    "# при вызовах функции print(функция, end='  ') параметр end позволит красиво оформить последовательность\n",
    "\n",
    "# ваш код"
   ]
  },
  {
   "cell_type": "markdown",
   "metadata": {},
   "source": [
    "### Задача 5\n",
    "Напишите программу, выбирающую случайное животное из списка animals при каждом запуске"
   ]
  },
  {
   "cell_type": "code",
   "execution_count": 5,
   "metadata": {},
   "outputs": [],
   "source": [
    "from random import *\n",
    "animals = ['cat', 'dog', 'bird', 'skunk', 'platypus']\n",
    "\n",
    "# ваш код"
   ]
  },
  {
   "cell_type": "markdown",
   "metadata": {},
   "source": [
    "### Задача 6\n",
    "Создайте два генератора с помощью класса `Random`, и выведите с их помощью две полностью совпадающих случайных последовательности в 10 целых чисел из промежутка $[1..10]$ \n",
    "\n",
    "\\*(генераторы надо 'синхронизировать', использовать переменные для хранения чисел из последовательности запрещено)\n",
    "\n",
    "пример результата работы:\n",
    "\n",
    "10 9 6 10 10 3 6 7 6 5 \n",
    "\n",
    "10 9 6 10 10 3 6 7 6 5 "
   ]
  },
  {
   "cell_type": "code",
   "execution_count": 6,
   "metadata": {},
   "outputs": [],
   "source": [
    "from random import *\n",
    "\n",
    "# ваш код"
   ]
  },
  {
   "cell_type": "markdown",
   "metadata": {},
   "source": [
    "### Задача 7\n",
    "Чем можно заменить оператор сравнения, чтобы сравнение переменных `a` и `b` давало положительный результат? Продемонстрируйте \"исправленный\" код"
   ]
  },
  {
   "cell_type": "code",
   "execution_count": 7,
   "metadata": {},
   "outputs": [
    {
     "data": {
      "text/plain": [
       "False"
      ]
     },
     "execution_count": 7,
     "metadata": {},
     "output_type": "execute_result"
    }
   ],
   "source": [
    "a = 0.3\n",
    "b = 0.1 + 0.2\n",
    "a == b"
   ]
  },
  {
   "cell_type": "code",
   "execution_count": 8,
   "metadata": {},
   "outputs": [],
   "source": [
    "from math import *\n",
    "\n",
    "# ваш код"
   ]
  },
  {
   "cell_type": "markdown",
   "metadata": {},
   "source": [
    "### Задача 8\n",
    "Найти среднее арифметическое чисел из списка `data` используя функцию из модуля `statistics`"
   ]
  },
  {
   "cell_type": "code",
   "execution_count": 9,
   "metadata": {},
   "outputs": [],
   "source": [
    "from statistics import *\n",
    "\n",
    "data = [10, 9, 6, 10, 10, 3, 6, 7, 6, 5]\n",
    "\n",
    "# ваш код"
   ]
  },
  {
   "cell_type": "markdown",
   "metadata": {},
   "source": [
    "### Задача 9\n",
    "Имеется набор из 10000 школьников. Известно, что их средний балл за егэ по русскому языку составил **63.4** балла. Стандартное отклонение по баллам равно **19.5**. Используя модуль `NormalDist`, найдите количество учеников, набравших ниже минимального количества баллов (ниже **24** баллов)."
   ]
  },
  {
   "cell_type": "code",
   "execution_count": 10,
   "metadata": {},
   "outputs": [],
   "source": [
    "from statistics import *\n",
    "\n",
    "# ваш код"
   ]
  }
 ],
 "metadata": {
  "kernelspec": {
   "display_name": "Python 3",
   "language": "python",
   "name": "python3"
  },
  "language_info": {
   "codemirror_mode": {
    "name": "ipython",
    "version": 3
   },
   "file_extension": ".py",
   "mimetype": "text/x-python",
   "name": "python",
   "nbconvert_exporter": "python",
   "pygments_lexer": "ipython3",
   "version": "3.8.3"
  }
 },
 "nbformat": 4,
 "nbformat_minor": 4
}
